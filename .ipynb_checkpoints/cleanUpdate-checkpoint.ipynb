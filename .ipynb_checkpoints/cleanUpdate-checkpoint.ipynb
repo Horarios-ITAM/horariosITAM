{
 "cells": [
  {
   "cell_type": "markdown",
   "id": "e31f26c9",
   "metadata": {},
   "source": [
    "# Actualiza horarios de clases desde grace"
   ]
  },
  {
   "cell_type": "markdown",
   "id": "6228d1bc",
   "metadata": {},
   "source": [
    "## Importes y utilidades"
   ]
  },
  {
   "cell_type": "code",
   "execution_count": 51,
   "id": "8080adc4",
   "metadata": {},
   "outputs": [],
   "source": [
    "import requests\n",
    "import urllib.request\n",
    "import json\n",
    "import os\n",
    "from bs4 import BeautifulSoup"
   ]
  },
  {
   "cell_type": "code",
   "execution_count": 17,
   "id": "f8d96f1c",
   "metadata": {},
   "outputs": [],
   "source": [
    "def getHTML(url):\n",
    "    with urllib.request.urlopen(url) as u:\n",
    "        html=u.read().decode(\"utf-8\",\"ignore\")\n",
    "    return html"
   ]
  },
  {
   "cell_type": "code",
   "execution_count": 21,
   "id": "d96d720b",
   "metadata": {},
   "outputs": [],
   "source": [
    "def levenshtein_ratio(a,b):\n",
    "    a=a.lower().strip()\n",
    "    b=b.lower().strip()\n",
    "    edits_away=0\n",
    "    for index,letter in enumerate(a):\n",
    "        try:\n",
    "            if letter!=b[index]:edits_away+=1\n",
    "        except:edits_away+=1\n",
    "    ratio=((len(a)+len(b)) - edits_away) / (len(a)+len(b))\n",
    "    return ratio"
   ]
  },
  {
   "cell_type": "code",
   "execution_count": 22,
   "id": "dfdd2e38",
   "metadata": {},
   "outputs": [],
   "source": [
    "def replace_latin_chars(str):\n",
    "    translate = {\"Á\": \"A\", \"É\": \"E\", \"Í\": \"I\", \"Ó\": \"O\", \"Ú\": \"U\", \"Ñ\": \"N\", \"Ü\": \"U\",\"á\": \"a\", \"é\": \"e\", \"í\": \"i\", \"ó\": \"o\", \"ú\": \"u\", \"ñ\": \"n\", \"ü\": \"u\"}\n",
    "    for original,replacement in translate.items():\n",
    "        str.replace(original,replacement)\n",
    "    return str"
   ]
  },
  {
   "cell_type": "markdown",
   "id": "c3249077",
   "metadata": {},
   "source": [
    "## Scrap grace"
   ]
  },
  {
   "cell_type": "code",
   "execution_count": 46,
   "id": "2ccdbb29",
   "metadata": {},
   "outputs": [],
   "source": [
    "#Regresa periodo y lista de nombre de clases dado el url del dropdown de grace\n",
    "def preliminaryInfo(url):\n",
    "    html=getHTML(url)\n",
    "    periodo=(html.split(\"período\")[1].split(\"</h3>\")[0]).strip()\n",
    "    clases=[i.replace('</option>','').replace('\\n','') for i in html.split(\"<option>\")[1:-1]]  \n",
    "    return periodo,clases"
   ]
  },
  {
   "cell_type": "code",
   "execution_count": 57,
   "id": "c2b23f2f",
   "metadata": {},
   "outputs": [],
   "source": [
    "#Dado el html de form_url regresa diccionario de la forma {\"grupo\":{diccionario con info de grupo}} y un booleado laboratorio\n",
    "def getClaseInfo(html):\n",
    "    if not html:return None\n",
    "    grupos={}\n",
    "    teoria=False\n",
    "    laboratorio=False\n",
    "    info=[\"depto\",\"clave\",\"grupo\",\"TL\",\"nombre\",\"prof\",\"cred\",\"horario\",\"dias\",\"salon\",\"campus\",\"comentarios\"] #datos por extraer\n",
    "    soup=BeautifulSoup(html, 'html.parser')\n",
    "    tabla=soup.find_all('table')[2] #la tabla con la info es la 3ra en el html\n",
    "    for renglon in tabla.find_all('tr')[1:]: #saltar renglon con cabecera\n",
    "        grupo={i:None for i in info}\n",
    "        info_index=0 #indice para navegar info[]\n",
    "        for columna in renglon.find_all('td'):\n",
    "            grupo[info[info_index]]=columna.string.strip()\n",
    "            if info[info_index]==\"dias\":\n",
    "                grupo[info[info_index]]=grupo[info[info_index]].split()\n",
    "            info_index+=1\n",
    "        grupos[grupo[\"grupo\"]+grupo[\"TL\"]]=grupo\n",
    "        if grupo[\"TL\"]==\"T\":\n",
    "            teoria=True\n",
    "        if grupo[\"TL\"]==\"L\":\n",
    "            laboratorio=True\n",
    "    return grupos"
   ]
  },
  {
   "cell_type": "code",
   "execution_count": 58,
   "id": "8aa8e7e9",
   "metadata": {},
   "outputs": [],
   "source": [
    "dropDownUrl=\"https://serviciosweb.itam.mx/EDSUP/BWZKSENP.P_Horarios1?s=1920\"\n",
    "formPostUrl=\"https://serviciosweb.itam.mx/EDSUP/BWZKSENP.P_Horarios2\""
   ]
  },
  {
   "cell_type": "code",
   "execution_count": 59,
   "id": "fa338858",
   "metadata": {},
   "outputs": [],
   "source": [
    "periodo,listaClases=preliminaryInfo(dropDownUrl)"
   ]
  },
  {
   "cell_type": "code",
   "execution_count": 62,
   "id": "642d3e21",
   "metadata": {},
   "outputs": [],
   "source": [
    "clases=[getClaseInfo(requests.post(url=formPostUrl,data={\"s\":s,\"txt_materia\":nombre}).text) for nombre in listaClases]"
   ]
  },
  {
   "cell_type": "code",
   "execution_count": 64,
   "id": "0c61a7bc",
   "metadata": {},
   "outputs": [],
   "source": [
    "with open(\"clases.js\",\"w+\") as f:\n",
    "    f.write(\"clases=\"+json.dumps(clases))"
   ]
  },
  {
   "cell_type": "code",
   "execution_count": null,
   "id": "a87bcb9b",
   "metadata": {},
   "outputs": [],
   "source": []
  }
 ],
 "metadata": {
  "kernelspec": {
   "display_name": "Python 3",
   "language": "python",
   "name": "python3"
  },
  "language_info": {
   "codemirror_mode": {
    "name": "ipython",
    "version": 3
   },
   "file_extension": ".py",
   "mimetype": "text/x-python",
   "name": "python",
   "nbconvert_exporter": "python",
   "pygments_lexer": "ipython3",
   "version": "3.8.8"
  }
 },
 "nbformat": 4,
 "nbformat_minor": 5
}
